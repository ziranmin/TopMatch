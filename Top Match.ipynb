{
 "cells": [
  {
   "cell_type": "code",
   "execution_count": 1,
   "metadata": {},
   "outputs": [],
   "source": [
    "import numpy as np \n",
    "import pandas as pd\n",
    "import matplotlib.pyplot as plt\n",
    "import seaborn as sns"
   ]
  },
  {
   "cell_type": "code",
   "execution_count": 3,
   "metadata": {},
   "outputs": [
    {
     "data": {
      "text/plain": [
       "(100836, 4)"
      ]
     },
     "execution_count": 3,
     "metadata": {},
     "output_type": "execute_result"
    }
   ],
   "source": [
    "rating_data=pd.read_csv('/Users/ziranmin/Desktop/Sophia课/ml-latest-small/ratings.csv')\n",
    "rating_data.shape"
   ]
  },
  {
   "cell_type": "code",
   "execution_count": 4,
   "metadata": {},
   "outputs": [
    {
     "data": {
      "text/html": [
       "<div>\n",
       "<style scoped>\n",
       "    .dataframe tbody tr th:only-of-type {\n",
       "        vertical-align: middle;\n",
       "    }\n",
       "\n",
       "    .dataframe tbody tr th {\n",
       "        vertical-align: top;\n",
       "    }\n",
       "\n",
       "    .dataframe thead th {\n",
       "        text-align: right;\n",
       "    }\n",
       "</style>\n",
       "<table border=\"1\" class=\"dataframe\">\n",
       "  <thead>\n",
       "    <tr style=\"text-align: right;\">\n",
       "      <th></th>\n",
       "      <th>userId</th>\n",
       "      <th>movieId</th>\n",
       "      <th>rating</th>\n",
       "      <th>timestamp</th>\n",
       "    </tr>\n",
       "  </thead>\n",
       "  <tbody>\n",
       "    <tr>\n",
       "      <th>0</th>\n",
       "      <td>1</td>\n",
       "      <td>1</td>\n",
       "      <td>4.0</td>\n",
       "      <td>964982703</td>\n",
       "    </tr>\n",
       "    <tr>\n",
       "      <th>1</th>\n",
       "      <td>1</td>\n",
       "      <td>3</td>\n",
       "      <td>4.0</td>\n",
       "      <td>964981247</td>\n",
       "    </tr>\n",
       "    <tr>\n",
       "      <th>2</th>\n",
       "      <td>1</td>\n",
       "      <td>6</td>\n",
       "      <td>4.0</td>\n",
       "      <td>964982224</td>\n",
       "    </tr>\n",
       "    <tr>\n",
       "      <th>3</th>\n",
       "      <td>1</td>\n",
       "      <td>47</td>\n",
       "      <td>5.0</td>\n",
       "      <td>964983815</td>\n",
       "    </tr>\n",
       "    <tr>\n",
       "      <th>4</th>\n",
       "      <td>1</td>\n",
       "      <td>50</td>\n",
       "      <td>5.0</td>\n",
       "      <td>964982931</td>\n",
       "    </tr>\n",
       "  </tbody>\n",
       "</table>\n",
       "</div>"
      ],
      "text/plain": [
       "   userId  movieId  rating  timestamp\n",
       "0       1        1     4.0  964982703\n",
       "1       1        3     4.0  964981247\n",
       "2       1        6     4.0  964982224\n",
       "3       1       47     5.0  964983815\n",
       "4       1       50     5.0  964982931"
      ]
     },
     "execution_count": 4,
     "metadata": {},
     "output_type": "execute_result"
    }
   ],
   "source": [
    "rating_data.head()"
   ]
  },
  {
   "cell_type": "code",
   "execution_count": 112,
   "metadata": {},
   "outputs": [],
   "source": [
    "def pearson(rating_data, id_1, id_2):\n",
    "    # find movies that both users have rated\n",
    "    a = rating_data.loc[rating_data['userId'] == id_1][[\"movieId\",\"rating\"]]\n",
    "    a = a.rename(columns ={\"rating\":\"rating_one\"})\n",
    "    b = rating_data.loc[rating_data['userId'] == id_2][[\"movieId\",\"rating\"]]\n",
    "    b = b.rename(columns ={\"rating\":\"rating_two\"})\n",
    "    combined =  pd.merge(a,b)\n",
    "    \n",
    "    #special case\n",
    "    if len(combined) == 0:\n",
    "        return 0\n",
    "    \n",
    "    # rating list of user 1\n",
    "    A = list(combined.rating_one)\n",
    "    # rating list of user 2\n",
    "    B = list(combined.rating_two)\n",
    "\n",
    "    sum1 = 0\n",
    "    sum2 = 0\n",
    "    sum1sq = 0\n",
    "    sum2sq = 0\n",
    "    psum = 0\n",
    "    n = len(A)\n",
    "    for i in range(n):\n",
    "        sum1 += A[i]\n",
    "        sum2 += B[i]\n",
    "        sum1sq += A[i]**2\n",
    "        sum2sq += B[i]**2\n",
    "        psum += A[i] * B[i]\n",
    "    num = psum - (sum1 * sum2/n) \n",
    "    den =((sum1sq - sum1**2 / n)*(sum2sq - sum2**2 / n))**0.5\n",
    "    \n",
    "    #special case\n",
    "    if den == 0:\n",
    "        return 0\n",
    "\n",
    "    return num/den"
   ]
  },
  {
   "cell_type": "code",
   "execution_count": 113,
   "metadata": {},
   "outputs": [],
   "source": [
    "def cosine(rating_data, id_1, id_2):\n",
    "    # find movies that both users have rated\n",
    "    a = rating_data.loc[rating_data['userId'] == id_1][[\"movieId\",\"rating\"]]\n",
    "    a = a.rename(columns ={\"rating\":\"rating_one\"})\n",
    "    b = rating_data.loc[rating_data['userId'] == id_2][[\"movieId\",\"rating\"]]\n",
    "    b = b.rename(columns ={\"rating\":\"rating_two\"})\n",
    "    combined =  pd.merge(a,b)\n",
    "    \n",
    "    #special case\n",
    "    if len(combined) == 0:\n",
    "        return 0\n",
    "    \n",
    "    # rating list of user 1\n",
    "    A = list(combined.rating_one)\n",
    "    # rating list of user 2\n",
    "    B = list(combined.rating_two)\n",
    "    \n",
    "    dot_product = np.dot(A, B)\n",
    "    norm_a = np.linalg.norm(A)\n",
    "    norm_b = np.linalg.norm(B)\n",
    "    return dot_product / (norm_a * norm_b)"
   ]
  },
  {
   "cell_type": "code",
   "execution_count": 109,
   "metadata": {},
   "outputs": [],
   "source": [
    "def topMatch(rating_data, id_1, sim_function):\n",
    "    best_id = 0\n",
    "    best_sim = -10\n",
    "    for i in rating_data['userId'].unique():\n",
    "        if i != id_1:\n",
    "            current_score = sim_function(rating_data, id_1, i)\n",
    "            if current_score > best_sim:\n",
    "                best_sim = current_score\n",
    "                best_id = i\n",
    "    return best_id"
   ]
  },
  {
   "cell_type": "code",
   "execution_count": 143,
   "metadata": {},
   "outputs": [
    {
     "data": {
      "text/plain": [
       "95"
      ]
     },
     "execution_count": 143,
     "metadata": {},
     "output_type": "execute_result"
    }
   ],
   "source": [
    "topMatch(rating_data, 3, pearson)"
   ]
  },
  {
   "cell_type": "code",
   "execution_count": 142,
   "metadata": {},
   "outputs": [
    {
     "data": {
      "text/plain": [
       "495"
      ]
     },
     "execution_count": 142,
     "metadata": {},
     "output_type": "execute_result"
    }
   ],
   "source": [
    "topMatch(rating_data, 3, cosine)"
   ]
  },
  {
   "cell_type": "markdown",
   "metadata": {},
   "source": [
    "# Example in video "
   ]
  },
  {
   "cell_type": "markdown",
   "metadata": {},
   "source": [
    "https://www.bing.com/videos/search?q=recommendation+systems+collaborative+filtering+university+of+washington&&view=detail&mid=1DB77199CB8E00F3384B1DB77199CB8E00F3384B&&FORM=VDRVRV"
   ]
  },
  {
   "cell_type": "code",
   "execution_count": 130,
   "metadata": {},
   "outputs": [],
   "source": [
    "df=pd.read_csv('/Users/ziranmin/Desktop/Sophia课/ml-latest-small/example.csv')"
   ]
  },
  {
   "cell_type": "markdown",
   "metadata": {},
   "source": [
    "# Got same result at 11:53 in video"
   ]
  },
  {
   "cell_type": "code",
   "execution_count": 137,
   "metadata": {},
   "outputs": [
    {
     "name": "stdout",
     "output_type": "stream",
     "text": [
      "0.9912407071619299\n",
      "0.38124642583151164\n",
      "-1.0\n",
      "0.8934051474415647\n",
      "0.9244734516419049\n",
      "0.66284898035987\n"
     ]
    }
   ],
   "source": [
    "for i in range(1,7):\n",
    "    print(pearson(df, 7, i))"
   ]
  },
  {
   "cell_type": "code",
   "execution_count": null,
   "metadata": {},
   "outputs": [],
   "source": []
  }
 ],
 "metadata": {
  "kernelspec": {
   "display_name": "Python 3",
   "language": "python",
   "name": "python3"
  },
  "language_info": {
   "codemirror_mode": {
    "name": "ipython",
    "version": 3
   },
   "file_extension": ".py",
   "mimetype": "text/x-python",
   "name": "python",
   "nbconvert_exporter": "python",
   "pygments_lexer": "ipython3",
   "version": "3.6.5"
  }
 },
 "nbformat": 4,
 "nbformat_minor": 2
}
